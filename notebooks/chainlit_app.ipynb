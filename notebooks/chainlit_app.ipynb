{
 "cells": [
  {
   "cell_type": "code",
   "execution_count": null,
   "metadata": {},
   "outputs": [],
   "source": [
    "\"\"\"\n",
    "This notebook outlines a Chainlit chatbot interface for interacting with\n",
    "CTSE lecture notes using the Mistral-based RAG pipeline.\n",
    "\"\"\""
   ]
  },
  {
   "cell_type": "code",
   "execution_count": null,
   "metadata": {},
   "outputs": [],
   "source": [
    "import chainlit as cl\n",
    "from pathlib import Path\n",
    "from your_rag_module import generate_answer  # Assume RAG logic is abstracted for reuse"
   ]
  },
  {
   "cell_type": "code",
   "execution_count": null,
   "metadata": {},
   "outputs": [],
   "source": [
    "@cl.on_chat_start\n",
    "async def start():\n",
    "    await cl.Message(\"Welcome to the CTSE Assistant! Upload a PDF/PPTX or ask a question.\").send()\n",
    "\n",
    "@cl.on_message\n",
    "async def main(message: cl.Message):\n",
    "    query = message.content\n",
    "    try:\n",
    "        answer, sources = generate_answer(query)\n",
    "        source_display = \"\\n---\\n\".join(sources)\n",
    "        response = f\"**Answer:**\\n{answer}\\n\\n**Sources:**\\n{source_display}\"\n",
    "        await cl.Message(content=response).send()\n",
    "    except Exception as e:\n",
    "        await cl.Message(f\"Error: {str(e)}\").send()"
   ]
  },
  {
   "cell_type": "code",
   "execution_count": null,
   "metadata": {},
   "outputs": [],
   "source": [
    "# Note: Create a new file `your_rag_module.py` to wrap `generate_answer()` from notebook 3\n",
    "\n",
    "\"\"\"\n",
    "To run this chatbot UI:\n",
    "1. Make sure you've saved `generate_answer()` from the previous notebook into `your_rag_module.py`\n",
    "2. In terminal, run:\n",
    "    chainlit run app.py\n",
    "3. A local UI will open at http://localhost:8000\n",
    "\"\"\""
   ]
  }
 ],
 "metadata": {
  "language_info": {
   "name": "python"
  }
 },
 "nbformat": 4,
 "nbformat_minor": 2
}
