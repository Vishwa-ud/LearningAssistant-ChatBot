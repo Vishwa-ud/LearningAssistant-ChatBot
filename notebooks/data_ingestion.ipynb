{
 "cells": [
  {
   "cell_type": "code",
   "execution_count": 1,
   "metadata": {},
   "outputs": [
    {
     "data": {
      "text/plain": [
       "'\\nThis notebook is for uploading and extracting text from CTSE lecture PDFs and PPTX files.\\n'"
      ]
     },
     "execution_count": 1,
     "metadata": {},
     "output_type": "execute_result"
    }
   ],
   "source": [
    "\"\"\"\n",
    "This notebook is for uploading and extracting text from CTSE lecture PDFs and PPTX files.\n",
    "\"\"\""
   ]
  },
  {
   "cell_type": "code",
   "execution_count": null,
   "metadata": {},
   "outputs": [],
   "source": [
    "import os\n",
    "from pathlib import Path\n",
    "import fitz  # PyMuPDF for PDFs\n",
    "from pptx import Presentation"
   ]
  },
  {
   "cell_type": "code",
   "execution_count": null,
   "metadata": {},
   "outputs": [],
   "source": [
    "# Directory for uploads\n",
    "UPLOAD_DIR = Path(\"../data\")\n",
    "UPLOAD_DIR.mkdir(parents=True, exist_ok=True)"
   ]
  },
  {
   "cell_type": "code",
   "execution_count": null,
   "metadata": {},
   "outputs": [],
   "source": [
    "# --- Helper functions ---\n",
    "def extract_text_from_pdf(pdf_path):\n",
    "    text = \"\"\n",
    "    doc = fitz.open(pdf_path)\n",
    "    for page in doc:\n",
    "        text += page.get_text()\n",
    "    return text\n",
    "\n",
    "def extract_text_from_pptx(pptx_path):\n",
    "    text = \"\"\n",
    "    prs = Presentation(pptx_path)\n",
    "    for slide in prs.slides:\n",
    "        for shape in slide.shapes:\n",
    "            if hasattr(shape, \"text\"):\n",
    "                text += shape.text + \"\\n\"\n",
    "    return text\n",
    "\n",
    "def save_clean_text(file_name, text):\n",
    "    output_path = UPLOAD_DIR / f\"{file_name}_extracted.txt\"\n",
    "    with open(output_path, \"w\", encoding=\"utf-8\") as f:\n",
    "        f.write(text)\n",
    "    return output_path"
   ]
  },
  {
   "cell_type": "code",
   "execution_count": null,
   "metadata": {},
   "outputs": [],
   "source": [
    "# --- Main pipeline ---\n",
    "def ingest_file(file_path):\n",
    "    ext = file_path.suffix.lower()\n",
    "    if ext == \".pdf\":\n",
    "        raw_text = extract_text_from_pdf(file_path)\n",
    "    elif ext == \".pptx\":\n",
    "        raw_text = extract_text_from_pptx(file_path)\n",
    "    else:\n",
    "        raise ValueError(\"Unsupported file type: only PDF and PPTX allowed\")\n",
    "\n",
    "    file_name = file_path.stem\n",
    "    cleaned_path = save_clean_text(file_name, raw_text)\n",
    "    print(f\"Saved cleaned text to: {cleaned_path}\")\n",
    "    return cleaned_path\n",
    "\n",
    "# --- Example Usage ---\n",
    "# In Jupyter, use:\n",
    "# from pathlib import Path\n",
    "# ingest_file(Path(\"../data/ctse_lecture_notes.pdf\"))"
   ]
  }
 ],
 "metadata": {
  "kernelspec": {
   "display_name": ".venv",
   "language": "python",
   "name": "python3"
  },
  "language_info": {
   "codemirror_mode": {
    "name": "ipython",
    "version": 3
   },
   "file_extension": ".py",
   "mimetype": "text/x-python",
   "name": "python",
   "nbconvert_exporter": "python",
   "pygments_lexer": "ipython3",
   "version": "3.10.0"
  }
 },
 "nbformat": 4,
 "nbformat_minor": 2
}
