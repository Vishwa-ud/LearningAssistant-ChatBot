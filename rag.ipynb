{
 "cells": [
  {
   "cell_type": "markdown",
   "metadata": {},
   "source": [
    "1. Read PDF"
   ]
  },
  {
   "cell_type": "code",
   "execution_count": null,
   "metadata": {
    "vscode": {
     "languageId": "plaintext"
    }
   },
   "outputs": [],
   "source": [
    "from pypdf import PdfReader\n",
    "import os\n",
    "\n",
    "FILE_PATH = os.path.join(\"data\",\"Lecture1-a.pdf\")\n",
    "reader = PdfReader(FILE_PATH)\n",
    "number_of_pages = len(reader.pages)\n",
    "\n",
    "entire_text = \"\"\n",
    "for page_num in range(number_of_pages):\n",
    "    page = reader.pages[page_num]\n",
    "    entire_text += page.extract_text()\n",
    "\n",
    "entire_text[:200]"
   ]
  },
  {
   "cell_type": "markdown",
   "metadata": {},
   "source": [
    "2. Split text into chunks "
   ]
  },
  {
   "cell_type": "code",
   "execution_count": null,
   "metadata": {
    "vscode": {
     "languageId": "plaintext"
    }
   },
   "outputs": [],
   "source": [
    "# split text based on number of characters in the text\n",
    "from langchain_text_splitters import RecursiveCharacterTextSplitter\n",
    "\n",
    "text_splitter = RecursiveCharacterTextSplitter(chunk_size=500, chunk_overlap=50)"
   ]
  },
  {
   "cell_type": "code",
   "execution_count": null,
   "metadata": {
    "vscode": {
     "languageId": "plaintext"
    }
   },
   "outputs": [],
   "source": [
    "text_chunks = text_splitter.split_text(entire_text)\n",
    "print(f\"Total chunks: {len(text_chunks)}\")"
   ]
  },
  {
   "cell_type": "code",
   "execution_count": null,
   "metadata": {
    "vscode": {
     "languageId": "plaintext"
    }
   },
   "outputs": [],
   "source": [
    "# print the first two chunks\n",
    "text_chunks[:2]"
   ]
  },
  {
   "cell_type": "markdown",
   "metadata": {},
   "source": [
    "3. Embedding Chunks"
   ]
  },
  {
   "cell_type": "code",
   "execution_count": null,
   "metadata": {
    "vscode": {
     "languageId": "plaintext"
    }
   },
   "outputs": [],
   "source": [
    "# huggingface embeddings models lot of them available there\n",
    "import torch\n",
    "from sentence_transformers import SentenceTransformer\n",
    "\n",
    "# Check if a GPU is available\n",
    "device = torch.device(\"cuda\" if torch.cuda.is_available() else \"cpu\")\n",
    "\n",
    "model_name = \"BAAI/bge-small-en-v1.5\"\n",
    "# model_name = \"all-MiniLM-L6-v2\"\n",
    "\n",
    "embedding_model = SentenceTransformer(model_name, device=device)"
   ]
  },
  {
   "cell_type": "code",
   "execution_count": null,
   "metadata": {
    "vscode": {
     "languageId": "plaintext"
    }
   },
   "outputs": [],
   "source": [
    "embeddings = embedding_model.encode(text_chunks, show_progress_bar=True)"
   ]
  },
  {
   "cell_type": "code",
   "execution_count": null,
   "metadata": {
    "vscode": {
     "languageId": "plaintext"
    }
   },
   "outputs": [],
   "source": [
    "embeddings[0].shape\n",
    "# store the embeddings in a list dimension"
   ]
  },
  {
   "cell_type": "markdown",
   "metadata": {},
   "source": [
    "4. Store in the Vector Database"
   ]
  },
  {
   "cell_type": "code",
   "execution_count": null,
   "metadata": {
    "vscode": {
     "languageId": "plaintext"
    }
   },
   "outputs": [],
   "source": [
    "# Import client library\n",
    "from qdrant_client import QdrantClient\n",
    "from qdrant_client.models import VectorParams, Distance\n",
    "\n",
    "client = QdrantClient(\"http://localhost:6333\")"
   ]
  },
  {
   "cell_type": "code",
   "execution_count": null,
   "metadata": {
    "vscode": {
     "languageId": "plaintext"
    }
   },
   "outputs": [],
   "source": [
    "from qdrant_client import QdrantClient\n",
    "\n",
    "# Connect to Qdrant inside Docker (default port 6333)\n",
    "client = QdrantClient(host=\"localhost\", port=6333)\n",
    "\n",
    "# Delete the collection\n",
    "client.delete_collection(collection_name=\"qa_index\")"
   ]
  },
  {
   "cell_type": "code",
   "execution_count": null,
   "metadata": {
    "vscode": {
     "languageId": "plaintext"
    }
   },
   "outputs": [],
   "source": [
    "# embedding_model.get_sentence_embedding_dimension()\n",
    "collection_name = \"qa_index\"\n",
    "client.delete_collection(collection_name)\n",
    "\n",
    "client.create_collection(\n",
    "    collection_name=collection_name,\n",
    "    vectors_config=VectorParams(size=384, distance=Distance.COSINE),\n",
    "    \n",
    ")\n",
    "# demention of vector is 384\n",
    "# create a collection in qdrant\n",
    "# metrix is cosine for semantic similarity\n",
    "# if return true collection is created we can stroe vectors in it\n"
   ]
  },
  {
   "cell_type": "markdown",
   "metadata": {},
   "source": [
    "5. Create payloads and ids"
   ]
  },
  {
   "cell_type": "code",
   "execution_count": null,
   "metadata": {
    "vscode": {
     "languageId": "plaintext"
    }
   },
   "outputs": [],
   "source": [
    "ids = [] # list of ids for each vectors we can use to retrieve the vectors text chunks\n",
    "payload = [] # metadata for each vector we can use to retrieve the text chunks\n",
    "\n",
    "for id, text in enumerate(text_chunks):\n",
    "    ids.append(id)\n",
    "    payload.append({\"source\": FILE_PATH, \"content\": text})\n",
    "\n",
    "payload[0]"
   ]
  },
  {
   "cell_type": "code",
   "execution_count": null,
   "metadata": {
    "vscode": {
     "languageId": "plaintext"
    }
   },
   "outputs": [],
   "source": [
    "# store the vectors in qdrant \n",
    "client.upload_collection(\n",
    "    collection_name=collection_name,\n",
    "    vectors=embeddings,\n",
    "    payload=payload,\n",
    "    ids=ids,\n",
    "    batch_size=256,  # How many vectors will be uploaded in a single request?\n",
    ")"
   ]
  },
  {
   "cell_type": "code",
   "execution_count": null,
   "metadata": {
    "vscode": {
     "languageId": "plaintext"
    }
   },
   "outputs": [],
   "source": [
    "# count the number of vectors in the collection\n",
    "client.count(collection_name)"
   ]
  },
  {
   "cell_type": "markdown",
   "metadata": {},
   "source": [
    "6. Retrieval Component"
   ]
  },
  {
   "cell_type": "code",
   "execution_count": null,
   "metadata": {
    "vscode": {
     "languageId": "plaintext"
    }
   },
   "outputs": [],
   "source": [
    "def search(text: str, top_k: int):# search for the text in the collection\n",
    "    query_embedding = embedding_model.encode(text).tolist()\n",
    "    \n",
    "    search_result = client.search(\n",
    "        collection_name=collection_name,\n",
    "        query_vector=query_embedding,\n",
    "        query_filter=None,  \n",
    "        limit=top_k\n",
    "    )\n",
    "    return search_result"
   ]
  },
  {
   "cell_type": "code",
   "execution_count": null,
   "metadata": {
    "vscode": {
     "languageId": "plaintext"
    }
   },
   "outputs": [],
   "source": [
    "# Retrieve the top 5 most similar vectors to the query\n",
    "question = \"what is dev ops?\"\n",
    "results = search(question, top_k=5) # retrieve the top 5 most similar vectors to the query\n",
    "results"
   ]
  },
  {
   "cell_type": "code",
   "execution_count": null,
   "metadata": {
    "vscode": {
     "languageId": "plaintext"
    }
   },
   "outputs": [],
   "source": [
    "text_chunks[2]"
   ]
  },
  {
   "cell_type": "markdown",
   "metadata": {},
   "source": [
    "7. Response Generation"
   ]
  },
  {
   "cell_type": "code",
   "execution_count": null,
   "metadata": {
    "vscode": {
     "languageId": "plaintext"
    }
   },
   "outputs": [],
   "source": [
    "system_prompt = \"\"\"You are an assistant for question-answering tasks. Answer the question according only to the given context.\n",
    "If question cannot be answered using the context, simply say I don't know. Do not make stuff up.\n",
    "\n",
    "Context: {context}\n",
    "\"\"\"\n",
    "\n",
    "user_prompt = \"\"\"\n",
    "Question: {question}\n",
    "\n",
    "Answer:\"\"\"\n",
    "\n",
    "references = [obj.payload[\"content\"] for obj in results]\n",
    "\n",
    "\n",
    "context = \"\\n\\n\".join(references)"
   ]
  },
  {
   "cell_type": "code",
   "execution_count": null,
   "metadata": {
    "vscode": {
     "languageId": "plaintext"
    }
   },
   "outputs": [],
   "source": [
    "import requests\n",
    "\n",
    "# 1. Format system and user messages\n",
    "system_message = system_prompt.format(context=context)\n",
    "user_message = user_prompt.format(question=question)\n",
    "\n",
    "# 2. API URL\n",
    "api_url = \"http://localhost:11434/api/chat\"\n",
    "\n",
    "# 3. Payload\n",
    "payload = {\n",
    "    \"model\": \"gemma3:1b\",\n",
    "    \"messages\": [\n",
    "        {\"role\": \"system\", \"content\": system_message},\n",
    "        {\"role\": \"user\", \"content\": user_message}\n",
    "    ],\n",
    "    \"stream\": True   # <-- Tell Ollama to stream\n",
    "}\n",
    "\n",
    "# 4. Send request with streaming\n",
    "response = requests.post(api_url, json=payload, stream=True)\n",
    "\n",
    "# 5. Read the response stream\n",
    "if response.status_code == 200:\n",
    "    for line in response.iter_lines():\n",
    "        if line:\n",
    "            data = line.decode('utf-8')\n",
    "            chunk = json.loads(data)\n",
    "            if 'message' in chunk and 'content' in chunk['message']:\n",
    "                print(chunk['message']['content'], end='', flush=True)\n",
    "else:\n",
    "    print(f\"Error: {response.status_code} - {response.text}\")\n"
   ]
  },
  {
   "cell_type": "markdown",
   "metadata": {},
   "source": [
    "8. Response with References"
   ]
  },
  {
   "cell_type": "code",
   "execution_count": null,
   "metadata": {
    "vscode": {
     "languageId": "plaintext"
    }
   },
   "outputs": [],
   "source": [
    "import requests\n",
    "import json\n",
    "\n",
    "# 1. Format system and user messages\n",
    "system_message = system_prompt.format(context=context)\n",
    "user_message = user_prompt.format(question=question)\n",
    "\n",
    "# 2. API URL\n",
    "api_url = \"http://localhost:11434/api/chat\"\n",
    "\n",
    "# 3. Payload\n",
    "payload = {\n",
    "    \"model\": \"gemma3:1b\",\n",
    "    \"messages\": [\n",
    "        {\"role\": \"system\", \"content\": system_message},\n",
    "        {\"role\": \"user\", \"content\": user_message}\n",
    "    ],\n",
    "    \"stream\": True   # Stream the response\n",
    "}\n",
    "\n",
    "# 4. Send request\n",
    "response = requests.post(api_url, json=payload, stream=True)\n",
    "\n",
    "# 5. Read streamed chunks and build the answer\n",
    "full_answer = \"\"\n",
    "\n",
    "if response.status_code == 200:\n",
    "    for line in response.iter_lines():\n",
    "        if line:\n",
    "            data = line.decode('utf-8')\n",
    "            chunk = json.loads(data)\n",
    "            if 'message' in chunk and 'content' in chunk['message']:\n",
    "                token = chunk['message']['content']\n",
    "                full_answer += token\n",
    "                print(token, end='', flush=True)  # Live typing effect\n",
    "else:\n",
    "    print(f\"Error: {response.status_code} - {response.text}\")\n",
    "\n",
    "# 6. After streaming is done, print references\n",
    "print(\"\\n\\nREFERENCES:\\n\")\n",
    "for index, ref in enumerate(references):\n",
    "    cleaned_ref = ref.strip()  # Remove extra spaces\n",
    "    if cleaned_ref:  # Skip any empty references\n",
    "        print(f\"Reference [{index + 1}]: {cleaned_ref}\\n\")\n"
   ]
  }
 ],
 "metadata": {
  "language_info": {
   "name": "python"
  }
 },
 "nbformat": 4,
 "nbformat_minor": 2
}
