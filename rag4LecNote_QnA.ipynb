{
 "cells": [
  {
   "cell_type": "markdown",
   "metadata": {},
   "source": [
    "1. Read PDF"
   ]
  },
  {
   "cell_type": "code",
   "execution_count": 31,
   "metadata": {},
   "outputs": [
    {
     "name": "stdout",
     "output_type": "stream",
     "text": [
      "Parsing PDF...\n",
      "Started parsing the file under job_id a0284efc-cb1f-4c34-8fa6-c5dda006b94c\n",
      "Parsing complete.\n",
      "Total number of documents: 25\n"
     ]
    }
   ],
   "source": [
    "import nest_asyncio\n",
    "from llama_parse import LlamaParse\n",
    "import os\n",
    "\n",
    "os.environ[\"LLAMA_CLOUD_API_KEY\"] = \"llx-IhK3GeDJpcCidqImPthddxEqY8bNMqunKtfLQbjRzL0Xxvds\"\n",
    "\n",
    "# Allow async event loop nesting (required in Jupyter or notebooks)\n",
    "nest_asyncio.apply()\n",
    "\n",
    "# Step 1: Load and parse PDF using LlamaParse\n",
    "parser = LlamaParse(result_type=\"markdown\")  # or \"text\" if you want plain output\n",
    "pdf_path = \"./data/Lecture1-a.pdf\"\n",
    "\n",
    "print(\"Parsing PDF...\")\n",
    "llama_parse_documents = parser.load_data(pdf_path)\n",
    "print(\"Parsing complete.\")\n",
    "\n",
    "# Step 2: Combine all parsed document texts into a single markdown string\n",
    "markdown_text = \"\\n\".join(doc.text for doc in llama_parse_documents)\n",
    "\n",
    "# Count the number of documents\n",
    "num_documents = len(llama_parse_documents)\n",
    "print(f\"Total number of documents: {num_documents}\")\n"
   ]
  },
  {
   "cell_type": "code",
   "execution_count": 32,
   "metadata": {},
   "outputs": [
    {
     "name": "stdout",
     "output_type": "stream",
     "text": [
      "--- Document 8 ---\n",
      "# Key Areas in DevOps\n",
      "\n",
      "# Reduce Organizational Silos\n",
      "\n",
      "Everyone shares the ownership of production and information is shared among everyone.\n",
      "\n",
      "# Accept Failure as Normal\n",
      "\n",
      "Blameless PMs/ RCA. Risk taking mindset.\n",
      "\n",
      "# Implement Gradual Changes\n",
      "\n",
      "Frequent deployments, frequent deterministic releases in small chunks which can be rolled back.\n",
      "\n",
      "# Leverage Tooling and Automation\n",
      "\n",
      "Automate and reduce manual work as much as possible.\n",
      "\n",
      "# Measure Everything\n",
      "\n",
      "Application, systems monitoring and metrics etc...\n"
     ]
    }
   ],
   "source": [
    "# Display documents in a loop\n",
    "doc_number = 8\n",
    "if doc_number <= len(llama_parse_documents):\n",
    "    print(f\"--- Document {doc_number} ---\")\n",
    "    print(llama_parse_documents[doc_number - 1].text)\n",
    "else:\n",
    "    print(f\"Document {doc_number} does not exist. Total documents: {len(llama_parse_documents)}\")\n"
   ]
  },
  {
   "cell_type": "markdown",
   "metadata": {},
   "source": [
    "2. Split text into chunks "
   ]
  },
  {
   "cell_type": "code",
   "execution_count": 33,
   "metadata": {},
   "outputs": [
    {
     "name": "stdout",
     "output_type": "stream",
     "text": [
      "\n",
      "✅ Total Chunks Created: 22\n"
     ]
    }
   ],
   "source": [
    "from langchain_text_splitters import RecursiveCharacterTextSplitter\n",
    "\n",
    "# Step 4: Split the parsed text into chunks\n",
    "text_splitter = RecursiveCharacterTextSplitter(chunk_size=500, chunk_overlap=100)\n",
    "text_chunks = text_splitter.split_text(markdown_text)\n",
    "\n",
    "# Display info about chunks\n",
    "print(f\"\\n✅ Total Chunks Created: {len(text_chunks)}\")\n"
   ]
  },
  {
   "cell_type": "code",
   "execution_count": 10,
   "metadata": {},
   "outputs": [
    {
     "data": {
      "text/plain": [
       "['# Intro to DevOps and Beyond\\n\\n# Ravindu Nirmal Fernando\\n# About Me\\n\\n- STL - DevOps @ Sysco LABS - Sri Lanka\\n- MSc in Computer Science specialized in Cloud Computing (UOM)\\n- AWS Certified Solutions Architect - Professional\\n- Certified Kubernetes Administrator (CKA)\\n- AWS Community Builder\\n\\nRavindu Nirmal Fernando\\n\\nhttps://ravindunfernando.com\\n# The Era before DevOps\\n# Developers\\n\\nFocused on Agility\\n\\n# Operators\\n\\nFocused on Stability\\n# Destructive downward spiral in IT\\n\\n# Act 01 - Operations teams',\n",
       " \"# Operators\\n\\nFocused on Stability\\n# Destructive downward spiral in IT\\n\\n# Act 01 - Operations teams\\n\\nmaintaining large fragile applications\\n\\nDoesn't have any visibility on the application, whether or not its working as expected\\n\\n# Act 02 - The product managers\\n\\nLarger, unrealistic commitments made to the outside world (client/investors) without understanding the complexities behind development and operations\\n\\n# Act 03 - The Developers\"]"
      ]
     },
     "execution_count": 10,
     "metadata": {},
     "output_type": "execute_result"
    }
   ],
   "source": [
    "# print the first two chunks\n",
    "text_chunks[:2]"
   ]
  },
  {
   "cell_type": "markdown",
   "metadata": {},
   "source": [
    "3. Embedding Chunks"
   ]
  },
  {
   "cell_type": "code",
   "execution_count": 34,
   "metadata": {},
   "outputs": [],
   "source": [
    "# huggingface embeddings models lot of them available there\n",
    "import torch\n",
    "from sentence_transformers import SentenceTransformer\n",
    "\n",
    "# Check if a GPU is available\n",
    "device = torch.device(\"cuda\" if torch.cuda.is_available() else \"cpu\")\n",
    "\n",
    "model_name = \"BAAI/bge-small-en-v1.5\"\n",
    "# model_name = \"all-MiniLM-L6-v2\"\n",
    "\n",
    "embedding_model = SentenceTransformer(model_name, device=device)"
   ]
  },
  {
   "cell_type": "code",
   "execution_count": 35,
   "metadata": {},
   "outputs": [
    {
     "name": "stderr",
     "output_type": "stream",
     "text": [
      "Batches: 100%|██████████| 1/1 [00:14<00:00, 14.69s/it]\n"
     ]
    }
   ],
   "source": [
    "embeddings = embedding_model.encode(text_chunks, show_progress_bar=True)"
   ]
  },
  {
   "cell_type": "code",
   "execution_count": 36,
   "metadata": {},
   "outputs": [
    {
     "data": {
      "text/plain": [
       "(384,)"
      ]
     },
     "execution_count": 36,
     "metadata": {},
     "output_type": "execute_result"
    }
   ],
   "source": [
    "embeddings[0].shape # store the embeddings in a list dimension"
   ]
  },
  {
   "cell_type": "markdown",
   "metadata": {},
   "source": [
    "4. Store in the Vector Database"
   ]
  },
  {
   "cell_type": "code",
   "execution_count": 37,
   "metadata": {},
   "outputs": [],
   "source": [
    "# Import client library\n",
    "from qdrant_client import QdrantClient\n",
    "from qdrant_client.models import VectorParams, Distance\n",
    "\n",
    "client = QdrantClient(\"http://localhost:6333\")"
   ]
  },
  {
   "cell_type": "markdown",
   "metadata": {},
   "source": [
    "Delete Collection If already Created"
   ]
  },
  {
   "cell_type": "code",
   "execution_count": 40,
   "metadata": {},
   "outputs": [
    {
     "data": {
      "text/plain": [
       "True"
      ]
     },
     "execution_count": 40,
     "metadata": {},
     "output_type": "execute_result"
    }
   ],
   "source": [
    "from qdrant_client import QdrantClient\n",
    "\n",
    "# Connect to Qdrant inside Docker (default port 6333)\n",
    "client = QdrantClient(host=\"localhost\", port=6333)\n",
    "\n",
    "# Delete the collection\n",
    "client.delete_collection(collection_name=\"qa_index\")"
   ]
  },
  {
   "cell_type": "code",
   "execution_count": 41,
   "metadata": {},
   "outputs": [
    {
     "data": {
      "text/plain": [
       "True"
      ]
     },
     "execution_count": 41,
     "metadata": {},
     "output_type": "execute_result"
    }
   ],
   "source": [
    "# embedding_model.get_sentence_embedding_dimension()\n",
    "collection_name = \"qa_index\"\n",
    "client.delete_collection(collection_name)\n",
    "\n",
    "client.create_collection(\n",
    "    collection_name=collection_name,\n",
    "    vectors_config=VectorParams(size=384, distance=Distance.COSINE),\n",
    "    \n",
    ")\n",
    "# demention of vector is 384\n",
    "# create a collection in qdrant\n",
    "# metrix is cosine for semantic similarity\n",
    "# if return true collection is created we can stroe vectors in it\n"
   ]
  },
  {
   "cell_type": "markdown",
   "metadata": {},
   "source": [
    "5. Create payloads and ids"
   ]
  },
  {
   "cell_type": "code",
   "execution_count": 42,
   "metadata": {},
   "outputs": [
    {
     "data": {
      "text/plain": [
       "{'source': './data/Lecture1-a.pdf',\n",
       " 'content': '# Intro to DevOps and Beyond\\n\\n# Ravindu Nirmal Fernando\\n# About Me\\n\\n- STL - DevOps @ Sysco LABS - Sri Lanka\\n- MSc in Computer Science specialized in Cloud Computing (UOM)\\n- AWS Certified Solutions Architect - Professional\\n- Certified Kubernetes Administrator (CKA)\\n- AWS Community Builder\\n\\nRavindu Nirmal Fernando\\n\\nhttps://ravindunfernando.com\\n# The Era before DevOps\\n# Developers\\n\\nFocused on Agility\\n\\n# Operators\\n\\nFocused on Stability\\n# Destructive downward spiral in IT\\n\\n# Act 01 - Operations teams'}"
      ]
     },
     "execution_count": 42,
     "metadata": {},
     "output_type": "execute_result"
    }
   ],
   "source": [
    "ids = [] # list of ids for each vectors we can use to retrieve the vectors text chunks\n",
    "payload = [] # metadata for each vector we can use to retrieve the text chunks\n",
    "\n",
    "for id, text in enumerate(text_chunks):\n",
    "    ids.append(id)\n",
    "    payload.append({\"source\": pdf_path, \"content\": text})\n",
    "\n",
    "payload[0]"
   ]
  },
  {
   "cell_type": "code",
   "execution_count": 43,
   "metadata": {},
   "outputs": [],
   "source": [
    "# store the vectors in qdrant \n",
    "client.upload_collection(\n",
    "    collection_name=collection_name,\n",
    "    vectors=embeddings,\n",
    "    payload=payload,\n",
    "    ids=ids,\n",
    "    batch_size=256,  # How many vectors will be uploaded in a single request?\n",
    ")"
   ]
  },
  {
   "cell_type": "code",
   "execution_count": 44,
   "metadata": {},
   "outputs": [
    {
     "data": {
      "text/plain": [
       "CountResult(count=22)"
      ]
     },
     "execution_count": 44,
     "metadata": {},
     "output_type": "execute_result"
    }
   ],
   "source": [
    "# count the number of vectors in the collection\n",
    "client.count(collection_name)"
   ]
  },
  {
   "cell_type": "markdown",
   "metadata": {},
   "source": [
    "6. Retrieval Component"
   ]
  },
  {
   "cell_type": "code",
   "execution_count": 45,
   "metadata": {},
   "outputs": [],
   "source": [
    "def search(text: str, top_k: int):# search for the text in the collection\n",
    "    query_embedding = embedding_model.encode(text).tolist()\n",
    "    \n",
    "    search_result = client.search(\n",
    "        collection_name=collection_name,\n",
    "        query_vector=query_embedding,\n",
    "        query_filter=None,  \n",
    "        limit=top_k\n",
    "    )\n",
    "    return search_result"
   ]
  },
  {
   "cell_type": "code",
   "execution_count": 52,
   "metadata": {},
   "outputs": [
    {
     "name": "stderr",
     "output_type": "stream",
     "text": [
      "C:\\Users\\Vishwa\\AppData\\Local\\Temp\\ipykernel_11536\\853163018.py:4: DeprecationWarning: `search` method is deprecated and will be removed in the future. Use `query_points` instead.\n",
      "  search_result = client.search(\n"
     ]
    },
    {
     "data": {
      "text/plain": [
       "[ScoredPoint(id=2, version=0, score=0.73754996, payload={'source': './data/Lecture1-a.pdf', 'content': '# Act 03 - The Developers\\n\\nDevelopers taking shortcuts and putting more and more fragile code on top of existing ones\\n\\n# Act 04 - Dev and Ops at war\\n\\n\"It worked on my machine\" phenomenon\\n# How can we overcome these issues?\\n# What is DevOps?\\n\\n“DevOps is the combination of cultural philosophies, practices, and tools that increases an organization’s ability to deliver applications and services at high velocity” - AWS'}, vector=None, shard_key=None, order_value=None),\n",
       " ScoredPoint(id=5, version=0, score=0.7245599, payload={'source': './data/Lecture1-a.pdf', 'content': 'Automate and reduce manual work as much as possible.\\n\\n# Measure Everything\\n\\nApplication, systems monitoring and metrics etc...\\nDevOps\\nPractices\\n# Continuous Integration (CI)\\n\\nSoftware development practice where developers regularly merge their code changes into a central repository, after which automated builds and tests are run.\\n\\n# Continuous Delivery (CD)'}, vector=None, shard_key=None, order_value=None),\n",
       " ScoredPoint(id=3, version=0, score=0.7226454, payload={'source': './data/Lecture1-a.pdf', 'content': '“A compound of development (Dev) and operations (Ops), DevOps is the union of people, process, and technology to continually provide value to customers.” - Azure\\n\\nDevOps allows evolving and improving products at a faster pace than businesses using traditional software development and infrastructure management processes. This speed allows businesses to serve their customers better and compete effectively.\\n# Key Areas in DevOps\\n\\n# Reduce Organizational Silos'}, vector=None, shard_key=None, order_value=None),\n",
       " ScoredPoint(id=10, version=0, score=0.69611305, payload={'source': './data/Lecture1-a.pdf', 'content': '# Cloud Infrastructure\\n\\nCloud provides more flexibility, scalability and toolsets for organizations to implement DevOps culture and practices. Serverless architecture in cloud brings down the efforts of DevOps teams as it eliminates server management operations.\\n\\n# Continuous Monitoring, Logging and Alerting'}, vector=None, shard_key=None, order_value=None),\n",
       " ScoredPoint(id=11, version=0, score=0.685113, payload={'source': './data/Lecture1-a.pdf', 'content': '# Continuous Monitoring, Logging and Alerting\\n\\nOrganizations monitor metrics and logs to see how application and infrastructure performance impacts the experience of their product’s end user. Combined with real time alerts organizations can do a real time analysis on the application status.\\n# DevOps Tools and Technologies\\n|code|plan|deploy|\\n|---|---|---|\\n|2|Dev|release|\\n|Ops|8| |\\n| |test| |\\n| | |monitor|\\n\\n# Integration Tools'}, vector=None, shard_key=None, order_value=None)]"
      ]
     },
     "execution_count": 52,
     "metadata": {},
     "output_type": "execute_result"
    }
   ],
   "source": [
    "# Retrieve the top 5 most similar vectors to the query\n",
    "question = \"Key Areas in DevOps?\"\n",
    "results = search(question, top_k=5) # retrieve the top 5 most similar vectors to the query\n",
    "results"
   ]
  },
  {
   "cell_type": "code",
   "execution_count": 53,
   "metadata": {},
   "outputs": [
    {
     "data": {
      "text/plain": [
       "'# Act 03 - The Developers\\n\\nDevelopers taking shortcuts and putting more and more fragile code on top of existing ones\\n\\n# Act 04 - Dev and Ops at war\\n\\n\"It worked on my machine\" phenomenon\\n# How can we overcome these issues?\\n# What is DevOps?\\n\\n“DevOps is the combination of cultural philosophies, practices, and tools that increases an organization’s ability to deliver applications and services at high velocity” - AWS'"
      ]
     },
     "execution_count": 53,
     "metadata": {},
     "output_type": "execute_result"
    }
   ],
   "source": [
    "text_chunks[2]"
   ]
  },
  {
   "cell_type": "markdown",
   "metadata": {},
   "source": [
    "7. Response Generation"
   ]
  },
  {
   "cell_type": "code",
   "execution_count": 54,
   "metadata": {},
   "outputs": [],
   "source": [
    "system_prompt = \"\"\"You are an ai assistant for question-answering tasks. Answer the question according only to the given context.\n",
    "If question cannot be answered using the context, simply say I don't know. Do not make stuff up.\n",
    "\n",
    "Context: {context}\n",
    "\"\"\"\n",
    "\n",
    "user_prompt = \"\"\"\n",
    "Question: {question}\n",
    "\n",
    "Answer:\"\"\"\n",
    "\n",
    "references = [obj.payload[\"content\"] for obj in results]\n",
    "\n",
    "\n",
    "context = \"\\n\\n\".join(references)"
   ]
  },
  {
   "cell_type": "markdown",
   "metadata": {},
   "source": [
    "8. Response with References"
   ]
  },
  {
   "cell_type": "markdown",
   "metadata": {},
   "source": [
    "RAG (Retrieval-Augmented Generation) principles: discourage hallucinations, only answer from the given documents"
   ]
  },
  {
   "cell_type": "code",
   "execution_count": 55,
   "metadata": {},
   "outputs": [
    {
     "name": "stdout",
     "output_type": "stream",
     "text": [
      "\n",
      "\n",
      "ANSWER:\n",
      "\n",
      "<think>\n",
      "Okay, so I need to figure out the answer to the question \"Key Areas in DevOps?\" based on the given context. Let me read through each act carefully.\n",
      "\n",
      "Starting with Act 03, The Developers, they mention taking shortcuts and adding fragile code. That's probably about the culture of development. Then Act 04 talks about Dev and Ops at war, mentioning a \"How can we overcome these issues?\" and defining what DevOps is as a combination of cultural practices and tools to speed things up. They gave AWS for DevOps.\n",
      "\n",
      "Act 05 focuses on Continuous Integration (CI), where developers merge code regularly and run builds and tests. Act 06 introduces Continuous Delivery (CD), which I think ties into CI but might be different in how it's applied or its duration, though the specifics aren't clear yet.\n",
      "\n",
      "Looking at Key Areas in DevOps under Cloud Infrastructure, they talk about reducing silos, cloud infrastructure flexibility, scaling, using serverless architectures to eliminate management. Then there are tools for monitoring and logging, which would include various APIs and platforms used.\n",
      "\n",
      "Putting it all together, the key areas seem to be:\n",
      "- Reducing silos: To improve communication and collaboration between different departments.\n",
      "- Cloud Infrastructure: Using cloud services for flexibility and scalability.\n",
      "- Continuous Monitoring and Logging: Ensuring real-time data on applications and user experiences.\n",
      "- DevOps Tools: Including CI/CD pipelines, CI-specific tools like Git, DevOps platforms like Jenkins, etc.\n",
      "\n",
      "I think these points cover the main areas outlined in the context. But I'm not entirely sure if there are other aspects mentioned that might be more central to DevOps. Maybe something about testing or deployment? The table shows code, plan, deploy columns with CI being 2, Ops being 8, and tests as ?, which is probably a placeholder.\n",
      "\n",
      "So, I'll go with the points about reducing silos, cloud infrastructure, continuous monitoring, and DevOps tools.\n",
      "</think>\n",
      "\n",
      "**Key Areas in DevOps:**\n",
      "\n",
      "1. **Reducing Organizational Silos:** Enhancing communication and collaboration between departments to improve team dynamics and performance.\n",
      "2. **Cloud Infrastructure:** Leveraging flexibility and scalability through cloud services to implement DevOps practices effectively.\n",
      "3. **Continuous Monitoring, Logging, and Alerting:** Ensuring real-time monitoring of application performance and user experience data for timely insights and actions.\n",
      "4. **DevOps Tools and Technologies:** Utilizing tools like CI/CD pipelines, CI-specific tools (e.g., Git), and DevOps platforms (e.g., Jenkins) to streamline processes.\n",
      "\n",
      "These areas collectively contribute to speeding up applications while ensuring product delivery.\n",
      "\n",
      "REFERENCES:\n",
      "\n",
      "Reference [1]: # Act 03 - The Developers\n",
      "\n",
      "Developers taking shortcuts and putting more and more fragile code on top of existing ones\n",
      "\n",
      "# Act 04 - Dev and Ops at war\n",
      "\n",
      "\"It worked on my machine\" phenomenon\n",
      "# How can we overcome these issues?\n",
      "# What is DevOps?\n",
      "\n",
      "“DevOps is the combination of cultural philosophies, practices, and tools that increases an organization’s ability to deliver applications and services at high velocity” - AWS\n",
      "\n",
      "Reference [2]: Automate and reduce manual work as much as possible.\n",
      "\n",
      "# Measure Everything\n",
      "\n",
      "Application, systems monitoring and metrics etc...\n",
      "DevOps\n",
      "Practices\n",
      "# Continuous Integration (CI)\n",
      "\n",
      "Software development practice where developers regularly merge their code changes into a central repository, after which automated builds and tests are run.\n",
      "\n",
      "# Continuous Delivery (CD)\n",
      "\n",
      "Reference [3]: “A compound of development (Dev) and operations (Ops), DevOps is the union of people, process, and technology to continually provide value to customers.” - Azure\n",
      "\n",
      "DevOps allows evolving and improving products at a faster pace than businesses using traditional software development and infrastructure management processes. This speed allows businesses to serve their customers better and compete effectively.\n",
      "# Key Areas in DevOps\n",
      "\n",
      "# Reduce Organizational Silos\n",
      "\n",
      "Reference [4]: # Cloud Infrastructure\n",
      "\n",
      "Cloud provides more flexibility, scalability and toolsets for organizations to implement DevOps culture and practices. Serverless architecture in cloud brings down the efforts of DevOps teams as it eliminates server management operations.\n",
      "\n",
      "# Continuous Monitoring, Logging and Alerting\n",
      "\n",
      "Reference [5]: # Continuous Monitoring, Logging and Alerting\n",
      "\n",
      "Organizations monitor metrics and logs to see how application and infrastructure performance impacts the experience of their product’s end user. Combined with real time alerts organizations can do a real time analysis on the application status.\n",
      "# DevOps Tools and Technologies\n",
      "|code|plan|deploy|\n",
      "|---|---|---|\n",
      "|2|Dev|release|\n",
      "|Ops|8| |\n",
      "| |test| |\n",
      "| | |monitor|\n",
      "\n",
      "# Integration Tools\n",
      "\n"
     ]
    }
   ],
   "source": [
    "import requests\n",
    "import json\n",
    "\n",
    "# 1. Format prompt\n",
    "final_prompt = system_prompt.format(context=context) + user_prompt.format(question=question)\n",
    "\n",
    "# 2. API URL for completion mode\n",
    "api_url = \"http://localhost:11434/api/generate\"\n",
    "\n",
    "# 3. Payload\n",
    "payload = {\n",
    "    \"model\": \"deepseek-r1:1.5b-qwen-distill-q4_K_M\",\n",
    "    \"prompt\": final_prompt,\n",
    "    \"stream\": True,\n",
    "    \"temperature\": 0.1\n",
    "}\n",
    "\n",
    "# 4. Send request\n",
    "response = requests.post(api_url, json=payload, stream=True)\n",
    "\n",
    "# 5. Read streamed chunks and build the answer\n",
    "print(\"\\n\\nANSWER:\\n\")\n",
    "full_answer = \"\"\n",
    "\n",
    "if response.status_code == 200:\n",
    "    for line in response.iter_lines():\n",
    "        if line:\n",
    "            data = line.decode('utf-8')\n",
    "            chunk = json.loads(data)\n",
    "            if 'response' in chunk:\n",
    "                token = chunk['response']\n",
    "                full_answer += token\n",
    "                print(token, end='', flush=True)\n",
    "else:\n",
    "    print(f\"Error: {response.status_code} - {response.text}\")\n",
    "\n",
    "# 6. After streaming is done, print references\n",
    "print(\"\\n\\nREFERENCES:\\n\")\n",
    "for index, ref in enumerate(references):\n",
    "    cleaned_ref = ref.strip()\n",
    "    if cleaned_ref:\n",
    "        print(f\"Reference [{index + 1}]: {cleaned_ref}\\n\")\n"
   ]
  }
 ],
 "metadata": {
  "kernelspec": {
   "display_name": ".venv",
   "language": "python",
   "name": "python3"
  },
  "language_info": {
   "codemirror_mode": {
    "name": "ipython",
    "version": 3
   },
   "file_extension": ".py",
   "mimetype": "text/x-python",
   "name": "python",
   "nbconvert_exporter": "python",
   "pygments_lexer": "ipython3",
   "version": "3.10.0"
  }
 },
 "nbformat": 4,
 "nbformat_minor": 2
}
