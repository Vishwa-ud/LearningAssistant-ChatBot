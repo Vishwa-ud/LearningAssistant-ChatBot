{
 "cells": [
  {
   "cell_type": "markdown",
   "metadata": {},
   "source": [
    "1. Read PDF"
   ]
  },
  {
   "cell_type": "code",
   "execution_count": 85,
   "metadata": {},
   "outputs": [
    {
     "data": {
      "text/plain": [
       "'Intro to DevOps and Beyond\\nRavindu Nirmal FernandoAbout Me\\n• STL - DevOps @ Sysco LABS - Sri Lanka\\n• MSc in Computer Science specialized in \\nCloud Computing (UOM)\\n• AWS Certified Solutions Architect -'"
      ]
     },
     "execution_count": 85,
     "metadata": {},
     "output_type": "execute_result"
    }
   ],
   "source": [
    "from pypdf import PdfReader\n",
    "import os\n",
    "\n",
    "FILE_PATH = os.path.join(\"data\",\"Lecture1-a.pdf\")\n",
    "reader = PdfReader(FILE_PATH)\n",
    "number_of_pages = len(reader.pages)\n",
    "\n",
    "entire_text = \"\"\n",
    "for page_num in range(number_of_pages):\n",
    "    page = reader.pages[page_num]\n",
    "    entire_text += page.extract_text()\n",
    "\n",
    "entire_text[:200]"
   ]
  },
  {
   "cell_type": "code",
   "execution_count": 78,
   "metadata": {},
   "outputs": [
    {
     "name": "stdout",
     "output_type": "stream",
     "text": [
      "Parsing PDF...\n",
      "Started parsing the file under job_id 6ef8a830-655a-487c-95fe-bf7288afe85d\n",
      "Parsing complete.\n",
      "Total number of documents: 25\n"
     ]
    }
   ],
   "source": [
    "import nest_asyncio\n",
    "from llama_parse import LlamaParse\n",
    "import os\n",
    "\n",
    "os.environ[\"LLAMA_CLOUD_API_KEY\"] = \"llx-IhK3GeDJpcCidqImPthddxEqY8bNMqunKtfLQbjRzL0Xxvds\"\n",
    "\n",
    "# Allow async event loop nesting (required in Jupyter or notebooks)\n",
    "nest_asyncio.apply()\n",
    "\n",
    "# Step 1: Load and parse PDF using LlamaParse\n",
    "parser = LlamaParse(result_type=\"markdown\")  # or \"text\" if you want plain output\n",
    "pdf_path = \"./data/Lecture1-a.pdf\"\n",
    "\n",
    "print(\"Parsing PDF...\")\n",
    "llama_parse_documents = parser.load_data(pdf_path)\n",
    "print(\"Parsing complete.\")\n",
    "\n",
    "# Step 2: Combine all parsed document texts into a single markdown string\n",
    "markdown_text = \"\\n\".join(doc.text for doc in llama_parse_documents)\n",
    "\n",
    "# Count the number of documents\n",
    "num_documents = len(llama_parse_documents)\n",
    "print(f\"Total number of documents: {num_documents}\")\n"
   ]
  },
  {
   "cell_type": "code",
   "execution_count": 77,
   "metadata": {},
   "outputs": [
    {
     "name": "stdout",
     "output_type": "stream",
     "text": [
      "\n",
      "--- Extracted Text Preview ---\n",
      "\n",
      "\n",
      "--- Document 1 ---\n",
      "\n",
      "# Intro to DevOps and Beyond\n",
      "\n",
      "# Ravindu Nirmal Fernando\n",
      "\n",
      "[...truncated...]\n",
      "\n",
      "\n",
      "--- Document 2 ---\n",
      "\n",
      "# About Me\n",
      "\n",
      "- STL - DevOps @ Sysco LABS - Sri Lanka\n",
      "- MSc in Computer Science specialized in Cloud Computing (UOM)\n",
      "- AWS Certified Solutions Architect - Professional\n",
      "- Certified Kubernetes Administrator (CKA)\n",
      "- AWS Community Builder\n",
      "\n",
      "Ravindu Nirmal Fernando\n",
      "\n",
      "https://ravindunfernando.com\n",
      "\n",
      "[...truncated...]\n",
      "\n",
      "\n",
      "--- Document 3 ---\n",
      "\n",
      "# The Era before DevOps\n",
      "\n",
      "[...truncated...]\n",
      "\n",
      "\n",
      "--- Document 4 ---\n",
      "\n",
      "# Developers\n",
      "\n",
      "Focused on Agility\n",
      "\n",
      "# Operators\n",
      "\n",
      "Focused on Stability\n",
      "\n",
      "[...truncated...]\n",
      "\n",
      "\n",
      "--- Document 5 ---\n",
      "\n",
      "# Destructive downward spiral in IT\n",
      "\n",
      "# Act 01 - Operations teams\n",
      "\n",
      "maintaining large fragile applications\n",
      "\n",
      "Doesn't have any visibility on the application, whether or not its working as expected\n",
      "\n",
      "# Act 02 - The product managers\n",
      "\n",
      "Larger, unrealistic commitments made to the outside world (client/investors) without understanding the complexities behind development and operations\n",
      "\n",
      "# Act 03 - The Developers\n",
      "\n",
      "Developers taking shortcuts and putting more and more fragile code on top of existing ones\n",
      "\n",
      "# Act 04 - Dev and Ops at war\n",
      "\n",
      "\"It worked on my machine\" phenomenon\n",
      "\n",
      "[...truncated...]\n",
      "\n",
      "\n",
      "--- Document 6 ---\n",
      "\n",
      "# How can we overcome these issues?\n",
      "\n",
      "[...truncated...]\n",
      "\n",
      "\n",
      "--- Document 7 ---\n",
      "\n",
      "# What is DevOps?\n",
      "\n",
      "“DevOps is the combination of cultural philosophies, practices, and tools that increases an organization’s ability to deliver applications and services at high velocity” - AWS\n",
      "\n",
      "“A compound of development (Dev) and operations (Ops), DevOps is the union of people, process, and technology to continually provide value to customers.” - Azure\n",
      "\n",
      "DevOps allows evolving and improving products at a faster pace than businesses using traditional software development and infrastructure management processes. This speed allows businesses to serve their customers better and compete effectively.\n",
      "\n",
      "[...truncated...]\n",
      "\n",
      "\n",
      "--- Document 8 ---\n",
      "\n",
      "# Key Areas in DevOps\n",
      "\n",
      "# Reduce Organizational Silos\n",
      "\n",
      "Everyone shares the ownership of production and information is shared among everyone.\n",
      "\n",
      "# Accept Failure as Normal\n",
      "\n",
      "Blameless PMs/ RCA. Risk taking mindset.\n",
      "\n",
      "# Implement Gradual Changes\n",
      "\n",
      "Frequent deployments, frequent deterministic releases in small chunks which can be rolled back.\n",
      "\n",
      "# Leverage Tooling and Automation\n",
      "\n",
      "Automate and reduce manual work as much as possible.\n",
      "\n",
      "# Measure Everything\n",
      "\n",
      "Application, systems monitoring and metrics etc...\n",
      "\n",
      "[...truncated...]\n",
      "\n",
      "\n",
      "--- Document 9 ---\n",
      "\n",
      "DevOps\n",
      "Practices\n",
      "\n",
      "[...truncated...]\n",
      "\n",
      "\n",
      "--- Document 10 ---\n",
      "\n",
      "# Continuous Integration (CI)\n",
      "\n",
      "Software development practice where developers regularly merge their code changes into a central repository, after which automated builds and tests are run.\n",
      "\n",
      "# Continuous Delivery (CD)\n",
      "\n",
      "Software development practice where code changes are automatically built, tested, and prepared for a release to production (automated code change deployment to staging/ pre-production system).\n",
      "\n",
      "# Continuous Deployment (CD)\n",
      "\n",
      "Every change that passes all stages of the pipeline will be deployed into production (released to customers). This practice fully automates the whole release flow without human intervention and only a failed test will prevent a new change being deployed.\n",
      "\n",
      "# Microservices\n",
      "\n",
      "The microservices architecture is a design approach to build a single application as a set of small services with each focusing on SRP. Each service can be created, deployed and run independently.\n",
      "\n",
      "[...truncated...]\n",
      "\n",
      "\n",
      "--- Document 11 ---\n",
      "\n",
      "# Infrastructure as Code\n",
      "\n",
      "A practice in which infrastructure is provisioned and managed using code and software development techniques, such as version control and continuous integration.\n",
      "\n",
      "- Configuration Management\n",
      "- Policy as Code\n",
      "\n",
      "# GitOps\n",
      "\n",
      "Builds on the concept of IaC, incorporating the functionality of Git repositories, merge requests (MRs) and CI/CD to further unify software development and infrastructure operations. GitOps incorporates managing both infrastructure and applications as code.\n",
      "\n",
      "# Cloud Infrastructure\n",
      "\n",
      "Cloud provides more flexibility, scalability and toolsets for organizations to implement DevOps culture and practices. Serverless architecture in cloud brings down the efforts of DevOps teams as it eliminates server management operations.\n",
      "\n",
      "# Continuous Monitoring, Logging and Alerting\n",
      "\n",
      "Organizations monitor metrics and logs to see how application and infrastructure performance impacts the experience of their product’s end user. Combined with real time alerts organizati\n",
      "\n",
      "[...truncated...]\n",
      "\n",
      "\n",
      "--- Document 12 ---\n",
      "\n",
      "# DevOps Tools and Technologies\n",
      "\n",
      "[...truncated...]\n",
      "\n",
      "\n",
      "--- Document 13 ---\n",
      "\n",
      "|code|plan|deploy|\n",
      "|---|---|---|\n",
      "|2|Dev|release|\n",
      "|Ops|8| |\n",
      "| |test| |\n",
      "| | |monitor|\n",
      "\n",
      "\n",
      "[...truncated...]\n",
      "\n",
      "\n",
      "--- Document 14 ---\n",
      "\n",
      "# Integration Tools\n",
      "\n",
      "|asana|PivotalTracker|Teamcity|shippable|(WHashiCorp|amazon|\n",
      "|---|---|---|---|---|---|\n",
      "|drv.i0 boX|Lucidchart|Jenkins|Travis Cl|Micrasit|flowdock|\n",
      "|planio|CODE $ AIP|buddybuild|circlecl|Googk Cloaeuttonn|Azure|\n",
      "|Drte|Wrike| |RELEASE|Googl? E| |\n",
      "|split|Office Goog - Docs| |DEFLOY|smartsheel|gliffy|\n",
      "|DEPLOY|puppet|CHEF|Basecamp|(|PLAN|\n",
      "| |@Trello|1 INTEGRATION| |m|OpsGenie|\n",
      "|zoominfo| |0|pagerduty|VtorOps|matters|\n",
      "|1|slack|~BUILD| |New Relic|snyk|\n",
      "|CODE CLIMATE|git|GitLab|CONTINUOUS|OPERATE|bugsnag|\n",
      "|Nagios|splunk|>|GGLY|IFrog|Mpm|\n",
      "|FitNesse|SAUCELABS|servicenuw|TestFairy|9RAYCUN|ZABBIX|\n",
      "|docker|GitHub|dc|runnable|zendesk|Jasmine|\n",
      "|SENTRY|DATADOG|blopunca|dvnatece|kubernetes| |\n",
      "|HATEACOM|@u CRM|cucumber|Rollbar|APPDYNAMICS| |\n",
      "|VisualStucio|Sonatype|Z-PHYR|BrowserStack|Team Fourdation Server|freshdesk|\n",
      "|OMETR|Inse0n|OmnidESK|[:]|SoucceCleac| |\n",
      "\n",
      "\n",
      "[...truncated...]\n",
      "\n",
      "\n",
      "--- Document 15 ---\n",
      "\n",
      "# Beyond\n",
      "\n",
      "# DevOps\n",
      "\n",
      "[...truncated...]\n",
      "\n",
      "\n",
      "--- Document 16 ---\n",
      "\n",
      "# DevSecOps\n",
      "\n",
      "# Traditional vs Shift-Left Security Model\n",
      "\n",
      "|Traditional|Shift-Left|\n",
      "|---|---|\n",
      "|Idea of moving Security in the early stages of the SDLC pipeline|Idea of moving Security in the early stages of the SDLC pipeline|\n",
      "|\"the practice of integrating security into a continuous integration, continuous delivery, and continuous deployment pipeline\"|\"the practice of integrating security into a continuous integration, continuous delivery, and continuous deployment pipeline\"|\n",
      "\n",
      "Test\n",
      "\n",
      "Build\n",
      "\n",
      "Design\n",
      "\n",
      "Release\n",
      "\n",
      "Monitor\n",
      "\n",
      "Product Lifecycle\n",
      "\n",
      "[...truncated...]\n",
      "\n",
      "\n",
      "--- Document 17 ---\n",
      "\n",
      "# DevSecOps Plan\n",
      "\n",
      "# Threat landscape, change impact analysis\n",
      "\n",
      "# Code\n",
      "\n",
      "- Pre-commit hooks;\n",
      "- SAST\n",
      "\n",
      "# Build\n",
      "\n",
      "- Software component analysis; SAST\n",
      "\n",
      "# Test\n",
      "\n",
      "- Authentication;\n",
      "- SQL injection;\n",
      "- DAST\n",
      "\n",
      "# Release\n",
      "\n",
      "- Access and configuration management\n",
      "\n",
      "# Deploy\n",
      "\n",
      "- Chaos engineering;\n",
      "- pen test\n",
      "\n",
      "# Production\n",
      "\n",
      "- Monitor\n",
      "\n",
      "# Respond\n",
      "\n",
      "- Block attacks\n",
      "- roll back\n",
      "\n",
      "[...truncated...]\n",
      "\n",
      "\n",
      "--- Document 18 ---\n",
      "\n",
      "# SRE (Site Reliability Engineering)\n",
      "\n",
      "- Not competing with DevOps\n",
      "- Think that Class SRE implements Interface DevOps\n",
      "- SRE is a part of the DevOps umbrella\n",
      "\n",
      "# SRE Practices\n",
      "\n",
      "- Identify and measure SLIs, define SLOs and agree/commit to SLA for product and service\n",
      "- Chaos Engineering\n",
      "- Removing toil\n",
      "- System designing (DR, Multi-Region, Multi-Cloud)\n",
      "- Postmortems/Root Cause Analysis\n",
      "- Observability\n",
      "\n",
      "[...truncated...]\n",
      "\n",
      "\n",
      "--- Document 19 ---\n",
      "\n",
      "# Platform Engineering\n",
      "\n",
      "Before jumping to definition, let’s understand the problem…\n",
      "\n",
      "|Configuration management|Cost insights|\n",
      "|---|---|\n",
      "|Infrastructure as Code|Cloud provider runtime environment|\n",
      "|Security scanning|Security|\n",
      "|Application|Artifact management|\n",
      "|Monitoring; Logging, Metrics|Database anonymization|\n",
      "|Alerts|CI / CD|\n",
      "|Database migrations| |\n",
      "\n",
      "\n",
      "[...truncated...]\n",
      "\n",
      "\n",
      "--- Document 20 ---\n",
      "\n",
      "The composition and integration of a set of processes, tools and automation (components) to build a coherent platform with the goal of empowering developers to be able to easily build, maintain and deploy their business logic.\n",
      "\n",
      "[...truncated...]\n",
      "\n",
      "\n",
      "--- Document 21 ---\n",
      "\n",
      "# Diagram of Platform Engineering\n",
      "\n",
      "# Team\n",
      "\n",
      "# Product and Service Teams\n",
      "\n",
      "# Components\n",
      "\n",
      "# Consumption\n",
      "\n",
      "# Direction\n",
      "\n",
      "| |X-as-a-Service|Developer Portal| | | |\n",
      "|---|---|---|---|---|---|\n",
      "|Reusable Components|Tools|Platform|Knowledge| | |\n",
      "|Digital Platform|Team(s)|Team(s)|Team(s)| | |\n",
      "|Infrastructure Platform|Infrastructure Complexity|Infrastructure Complexity|Infrastructure Complexity| | |\n",
      "\n",
      "gartner.com\n",
      "\n",
      "Source: Gartner\n",
      "\n",
      "2023 Gartner; Inc. and its affiliates. All rights reserved. CM_GTS_2479487\n",
      "\n",
      "[...truncated...]\n",
      "\n",
      "\n",
      "--- Document 22 ---\n",
      "\n",
      "# Carrier as a DevOps Engineer\n",
      "\n",
      "[...truncated...]\n",
      "\n",
      "\n",
      "--- Document 23 ---\n",
      "\n",
      "# DevOps Engineer Role\n",
      "\n",
      "- CI/ CD Management & Automation\n",
      "- Cloud Deployment and Management\n",
      "- Infrastructure Management\n",
      "- Performance Assessment and Monitoring\n",
      "- Writing Specifications and Documentation\n",
      "- Assisting with DevOps culture adoption\n",
      "\n",
      "[...truncated...]\n",
      "\n",
      "\n",
      "--- Document 24 ---\n",
      "\n",
      "# References\n",
      "\n",
      "- https://sre.google/sre-book/table-of-contents/\n",
      "- https://www.gartner.com/en/articles/what-is-platform-engineering\n",
      "- https://youtu.be/uTEL8Ff1Zvk?si=5QT_LrzedX-BMezt\n",
      "\n",
      "[...truncated...]\n",
      "\n",
      "\n",
      "--- Document 25 ---\n",
      "\n",
      "4\n",
      "\n",
      "# LinkedIn\n",
      "\n",
      "https://www.linkedin.com/in/ravindufernando/\n",
      "\n",
      "# X (Twitter)\n",
      "\n",
      "@ravindunf\n",
      "\n",
      "# SCAN ME\n",
      "\n",
      "Thank You!\n",
      "\n",
      "[...truncated...]\n",
      "\n"
     ]
    }
   ],
   "source": [
    "# Step 3: Display extracted text (for testing)\n",
    "print(\"\\n--- Extracted Text Preview ---\\n\")\n",
    "\n",
    "for i, doc in enumerate(llama_parse_documents):\n",
    "    print(f\"\\n--- Document {i + 1} ---\\n\")\n",
    "    print(doc.text[:1000])  # Print first 1000 characters to avoid overloading\n",
    "    print(\"\\n[...truncated...]\\n\")"
   ]
  },
  {
   "cell_type": "code",
   "execution_count": 81,
   "metadata": {},
   "outputs": [
    {
     "name": "stdout",
     "output_type": "stream",
     "text": [
      "\n",
      "✅ Total Chunks Created: 22\n"
     ]
    }
   ],
   "source": [
    "from langchain_text_splitters import RecursiveCharacterTextSplitter\n",
    "\n",
    "# Step 4: Split the parsed text into chunks\n",
    "text_splitter = RecursiveCharacterTextSplitter(chunk_size=500, chunk_overlap=100)\n",
    "text_chunks = text_splitter.split_text(markdown_text)\n",
    "\n",
    "# Display info about chunks\n",
    "print(f\"\\n✅ Total Chunks Created: {len(text_chunks)}\")\n"
   ]
  },
  {
   "cell_type": "markdown",
   "metadata": {},
   "source": [
    "2. Split text into chunks "
   ]
  },
  {
   "cell_type": "code",
   "execution_count": 3,
   "metadata": {},
   "outputs": [],
   "source": [
    "# split text based on number of characters in the text\n",
    "from langchain_text_splitters import RecursiveCharacterTextSplitter\n",
    "\n",
    "text_splitter = RecursiveCharacterTextSplitter(chunk_size=500, chunk_overlap=100)"
   ]
  },
  {
   "cell_type": "code",
   "execution_count": 4,
   "metadata": {},
   "outputs": [
    {
     "name": "stdout",
     "output_type": "stream",
     "text": [
      "Total chunks: 15\n"
     ]
    }
   ],
   "source": [
    "text_chunks = text_splitter.split_text(entire_text)\n",
    "print(f\"Total chunks: {len(text_chunks)}\")"
   ]
  },
  {
   "cell_type": "code",
   "execution_count": 5,
   "metadata": {},
   "outputs": [
    {
     "data": {
      "text/plain": [
       "['Intro to DevOps and Beyond\\nRavindu Nirmal FernandoAbout Me\\n• STL - DevOps @ Sysco LABS - Sri Lanka\\n• MSc in Computer Science specialized in \\nCloud Computing (UOM)\\n• AWS Certified Solutions Architect - \\nProfessional \\n• Certified Kubernetes Administrator \\n(CKA)\\n• AWS Community Builder\\nRavindu Nirmal Fernando\\nhttps://ravindunfernando.com\\nThe Era before \\nDevOpsDevelopers\\nFocused on Agility\\nOperators\\nFocused on StabilityAct 01 - Operations teams \\nmaintaining large fragile \\napplications',\n",
       " \"Operators\\nFocused on StabilityAct 01 - Operations teams \\nmaintaining large fragile \\napplications\\nDoesn't have any visibility on the \\napplication, whether or not its \\nworking as expected\\nAct 03 - The Developers\\nDevelopers taking shortcuts and \\nputting more and more fragile \\ncode on top of existing ones \\nAct 02 - The product \\nmanagers\\nLarger, unrealistic commitments \\nmade to the outside world (client/ \\ninvestors) without understanding \\nthe complexities behind \\ndevelopment and operations\"]"
      ]
     },
     "execution_count": 5,
     "metadata": {},
     "output_type": "execute_result"
    }
   ],
   "source": [
    "# print the first two chunks\n",
    "text_chunks[:2]"
   ]
  },
  {
   "cell_type": "markdown",
   "metadata": {},
   "source": [
    "3. Embedding Chunks"
   ]
  },
  {
   "cell_type": "code",
   "execution_count": 6,
   "metadata": {},
   "outputs": [
    {
     "name": "stderr",
     "output_type": "stream",
     "text": [
      "d:\\Education\\LearningAssistant-ChatBot\\.venv\\lib\\site-packages\\tqdm\\auto.py:21: TqdmWarning: IProgress not found. Please update jupyter and ipywidgets. See https://ipywidgets.readthedocs.io/en/stable/user_install.html\n",
      "  from .autonotebook import tqdm as notebook_tqdm\n"
     ]
    }
   ],
   "source": [
    "# huggingface embeddings models lot of them available there\n",
    "import torch\n",
    "from sentence_transformers import SentenceTransformer\n",
    "\n",
    "# Check if a GPU is available\n",
    "device = torch.device(\"cuda\" if torch.cuda.is_available() else \"cpu\")\n",
    "\n",
    "model_name = \"BAAI/bge-small-en-v1.5\"\n",
    "# model_name = \"all-MiniLM-L6-v2\"\n",
    "\n",
    "embedding_model = SentenceTransformer(model_name, device=device)"
   ]
  },
  {
   "cell_type": "code",
   "execution_count": 7,
   "metadata": {},
   "outputs": [
    {
     "name": "stderr",
     "output_type": "stream",
     "text": [
      "Batches: 100%|██████████| 1/1 [00:09<00:00,  9.77s/it]\n"
     ]
    }
   ],
   "source": [
    "embeddings = embedding_model.encode(text_chunks, show_progress_bar=True)"
   ]
  },
  {
   "cell_type": "code",
   "execution_count": 8,
   "metadata": {},
   "outputs": [
    {
     "data": {
      "text/plain": [
       "(384,)"
      ]
     },
     "execution_count": 8,
     "metadata": {},
     "output_type": "execute_result"
    }
   ],
   "source": [
    "embeddings[0].shape # store the embeddings in a list dimension"
   ]
  },
  {
   "cell_type": "markdown",
   "metadata": {},
   "source": [
    "4. Store in the Vector Database"
   ]
  },
  {
   "cell_type": "code",
   "execution_count": 9,
   "metadata": {},
   "outputs": [],
   "source": [
    "# Import client library\n",
    "from qdrant_client import QdrantClient\n",
    "from qdrant_client.models import VectorParams, Distance\n",
    "\n",
    "client = QdrantClient(\"http://localhost:6333\")"
   ]
  },
  {
   "cell_type": "code",
   "execution_count": 10,
   "metadata": {},
   "outputs": [
    {
     "data": {
      "text/plain": [
       "True"
      ]
     },
     "execution_count": 10,
     "metadata": {},
     "output_type": "execute_result"
    }
   ],
   "source": [
    "from qdrant_client import QdrantClient\n",
    "\n",
    "# Connect to Qdrant inside Docker (default port 6333)\n",
    "client = QdrantClient(host=\"localhost\", port=6333)\n",
    "\n",
    "# Delete the collection\n",
    "client.delete_collection(collection_name=\"qa_index\")"
   ]
  },
  {
   "cell_type": "code",
   "execution_count": 11,
   "metadata": {},
   "outputs": [
    {
     "data": {
      "text/plain": [
       "True"
      ]
     },
     "execution_count": 11,
     "metadata": {},
     "output_type": "execute_result"
    }
   ],
   "source": [
    "# embedding_model.get_sentence_embedding_dimension()\n",
    "collection_name = \"qa_index\"\n",
    "client.delete_collection(collection_name)\n",
    "\n",
    "client.create_collection(\n",
    "    collection_name=collection_name,\n",
    "    vectors_config=VectorParams(size=384, distance=Distance.COSINE),\n",
    "    \n",
    ")\n",
    "# demention of vector is 384\n",
    "# create a collection in qdrant\n",
    "# metrix is cosine for semantic similarity\n",
    "# if return true collection is created we can stroe vectors in it\n"
   ]
  },
  {
   "cell_type": "markdown",
   "metadata": {},
   "source": [
    "5. Create payloads and ids"
   ]
  },
  {
   "cell_type": "code",
   "execution_count": 12,
   "metadata": {},
   "outputs": [
    {
     "data": {
      "text/plain": [
       "{'source': 'data\\\\Lecture1-a.pdf',\n",
       " 'content': 'Intro to DevOps and Beyond\\nRavindu Nirmal FernandoAbout Me\\n• STL - DevOps @ Sysco LABS - Sri Lanka\\n• MSc in Computer Science specialized in \\nCloud Computing (UOM)\\n• AWS Certified Solutions Architect - \\nProfessional \\n• Certified Kubernetes Administrator \\n(CKA)\\n• AWS Community Builder\\nRavindu Nirmal Fernando\\nhttps://ravindunfernando.com\\nThe Era before \\nDevOpsDevelopers\\nFocused on Agility\\nOperators\\nFocused on StabilityAct 01 - Operations teams \\nmaintaining large fragile \\napplications'}"
      ]
     },
     "execution_count": 12,
     "metadata": {},
     "output_type": "execute_result"
    }
   ],
   "source": [
    "ids = [] # list of ids for each vectors we can use to retrieve the vectors text chunks\n",
    "payload = [] # metadata for each vector we can use to retrieve the text chunks\n",
    "\n",
    "for id, text in enumerate(text_chunks):\n",
    "    ids.append(id)\n",
    "    payload.append({\"source\": FILE_PATH, \"content\": text})\n",
    "\n",
    "payload[0]"
   ]
  },
  {
   "cell_type": "code",
   "execution_count": 13,
   "metadata": {},
   "outputs": [],
   "source": [
    "# store the vectors in qdrant \n",
    "client.upload_collection(\n",
    "    collection_name=collection_name,\n",
    "    vectors=embeddings,\n",
    "    payload=payload,\n",
    "    ids=ids,\n",
    "    batch_size=256,  # How many vectors will be uploaded in a single request?\n",
    ")"
   ]
  },
  {
   "cell_type": "code",
   "execution_count": 14,
   "metadata": {},
   "outputs": [
    {
     "data": {
      "text/plain": [
       "CountResult(count=15)"
      ]
     },
     "execution_count": 14,
     "metadata": {},
     "output_type": "execute_result"
    }
   ],
   "source": [
    "# count the number of vectors in the collection\n",
    "client.count(collection_name)"
   ]
  },
  {
   "cell_type": "markdown",
   "metadata": {},
   "source": [
    "6. Retrieval Component"
   ]
  },
  {
   "cell_type": "code",
   "execution_count": 15,
   "metadata": {},
   "outputs": [],
   "source": [
    "def search(text: str, top_k: int):# search for the text in the collection\n",
    "    query_embedding = embedding_model.encode(text).tolist()\n",
    "    \n",
    "    search_result = client.search(\n",
    "        collection_name=collection_name,\n",
    "        query_vector=query_embedding,\n",
    "        query_filter=None,  \n",
    "        limit=top_k\n",
    "    )\n",
    "    return search_result"
   ]
  },
  {
   "cell_type": "code",
   "execution_count": 60,
   "metadata": {},
   "outputs": [
    {
     "name": "stderr",
     "output_type": "stream",
     "text": [
      "C:\\Users\\Vishwa\\AppData\\Local\\Temp\\ipykernel_8876\\853163018.py:4: DeprecationWarning: `search` method is deprecated and will be removed in the future. Use `query_points` instead.\n",
      "  search_result = client.search(\n"
     ]
    },
    {
     "data": {
      "text/plain": [
       "[ScoredPoint(id=3, version=0, score=0.6344266, payload={'source': 'data\\\\Lecture1-a.pdf', 'content': 'at high velocity”\\n- What is DevOps? [AWS] -\\n“A compound of development (Dev) and operations (Ops), DevOps is the \\nunion of people, process, and technology to continually provide value to \\ncustomers.” \\n- What is DevOps? [Azure] -\\nDevOps allows evolving and improving products at a faster pace than businesses \\nusing traditional software development and infrastructure management processes. \\nThis speed allows businesses to serve their customers better and compete effectively.Reduce Organizational'}, vector=None, shard_key=None, order_value=None),\n",
       " ScoredPoint(id=2, version=0, score=0.63112485, payload={'source': 'data\\\\Lecture1-a.pdf', 'content': 'investors) without understanding \\nthe complexities behind \\ndevelopment and operations\\nAct 04 - Dev and Ops at war\\n\"It worked on my machine\" \\nphenomenon \\n\"Destructive downward spiral in IT\" - Gene Kim\\nHow can we \\novercome \\nthese issues?“DevOps is the combination of cultural philosophies, practices, and tools \\nthat increases an organization’s ability to deliver applications and services \\nat high velocity”\\n- What is DevOps? [AWS] -'}, vector=None, shard_key=None, order_value=None),\n",
       " ScoredPoint(id=12, version=0, score=0.6265444, payload={'source': 'data\\\\Lecture1-a.pdf', 'content': '- Postmortems/ Root Cause Analysis\\n- ObservabilityPlatform Engineering\\nBefore jumping to definition, let’s understand the problem…\\n“The composition and integration of a set of processes, tools and automation \\n(components) to build a coherent platform with the goal of empowering developers to \\nbe able to easily build, maintain and deploy their business logic” Carrier as a\\nDevOps \\nEngineer\\nCI/ CD Management & Automation\\nWriting Specifications and \\nDocumentation\\nInfrastructure Management'}, vector=None, shard_key=None, order_value=None),\n",
       " ScoredPoint(id=1, version=0, score=0.59542835, payload={'source': 'data\\\\Lecture1-a.pdf', 'content': \"Operators\\nFocused on StabilityAct 01 - Operations teams \\nmaintaining large fragile \\napplications\\nDoesn't have any visibility on the \\napplication, whether or not its \\nworking as expected\\nAct 03 - The Developers\\nDevelopers taking shortcuts and \\nputting more and more fragile \\ncode on top of existing ones \\nAct 02 - The product \\nmanagers\\nLarger, unrealistic commitments \\nmade to the outside world (client/ \\ninvestors) without understanding \\nthe complexities behind \\ndevelopment and operations\"}, vector=None, shard_key=None, order_value=None),\n",
       " ScoredPoint(id=7, version=0, score=0.5916608, payload={'source': 'data\\\\Lecture1-a.pdf', 'content': 'new change being deployed. \\n• Microservices - The microservices architecture is a design approach to build a single \\napplication as a set of small services with each focusing on SRP. Each service can be \\ncreated, deployed and run independently.• Infrastructure as Code - A practice in which infrastructure is provisioned and \\nmanaged using code and software development techniques, such as version control \\nand continuous integration.\\n⚬ Configuration Management\\n⚬ Policy as Code'}, vector=None, shard_key=None, order_value=None)]"
      ]
     },
     "execution_count": 60,
     "metadata": {},
     "output_type": "execute_result"
    }
   ],
   "source": [
    "# Retrieve the top 5 most similar vectors to the query\n",
    "question = \"what is object oriented programming?\"\n",
    "results = search(question, top_k=5) # retrieve the top 5 most similar vectors to the query\n",
    "results"
   ]
  },
  {
   "cell_type": "code",
   "execution_count": 53,
   "metadata": {},
   "outputs": [
    {
     "data": {
      "text/plain": [
       "'investors) without understanding \\nthe complexities behind \\ndevelopment and operations\\nAct 04 - Dev and Ops at war\\n\"It worked on my machine\" \\nphenomenon \\n\"Destructive downward spiral in IT\" - Gene Kim\\nHow can we \\novercome \\nthese issues?“DevOps is the combination of cultural philosophies, practices, and tools \\nthat increases an organization’s ability to deliver applications and services \\nat high velocity”\\n- What is DevOps? [AWS] -'"
      ]
     },
     "execution_count": 53,
     "metadata": {},
     "output_type": "execute_result"
    }
   ],
   "source": [
    "text_chunks[2]"
   ]
  },
  {
   "cell_type": "markdown",
   "metadata": {},
   "source": [
    "7. Response Generation"
   ]
  },
  {
   "cell_type": "code",
   "execution_count": 61,
   "metadata": {},
   "outputs": [],
   "source": [
    "system_prompt = \"\"\"You are an ai assistant for question-answering tasks. Answer the question according only to the given context.\n",
    "If question cannot be answered using the context, simply say I don't know. Do not make stuff up.\n",
    "\n",
    "Context: {context}\n",
    "\"\"\"\n",
    "\n",
    "user_prompt = \"\"\"\n",
    "Question: {question}\n",
    "\n",
    "Answer:\"\"\"\n",
    "\n",
    "references = [obj.payload[\"content\"] for obj in results]\n",
    "\n",
    "\n",
    "context = \"\\n\\n\".join(references)"
   ]
  },
  {
   "cell_type": "markdown",
   "metadata": {},
   "source": [
    "Method 1: Using llama_index library (llama_index.llms.ollama) Version"
   ]
  },
  {
   "cell_type": "code",
   "execution_count": null,
   "metadata": {},
   "outputs": [
    {
     "name": "stdout",
     "output_type": "stream",
     "text": [
      "ANSWER:\n",
      "I don't know.\n",
      "\n",
      "REFERENCES:\n",
      "\n",
      "Reference [1]: at high velocity”\n",
      "- What is DevOps? [AWS] -\n",
      "“A compound of development (Dev) and operations (Ops), DevOps is the \n",
      "union of people, process, and technology to continually provide value to \n",
      "customers.” \n",
      "- What is DevOps? [Azure] -\n",
      "DevOps allows evolving and improving products at a faster pace than businesses \n",
      "using traditional software development and infrastructure management processes. \n",
      "This speed allows businesses to serve their customers better and compete effectively.Reduce Organizational\n",
      "\n",
      "Reference [2]: investors) without understanding \n",
      "the complexities behind \n",
      "development and operations\n",
      "Act 04 - Dev and Ops at war\n",
      "\"It worked on my machine\" \n",
      "phenomenon \n",
      "\"Destructive downward spiral in IT\" - Gene Kim\n",
      "How can we \n",
      "overcome \n",
      "these issues?“DevOps is the combination of cultural philosophies, practices, and tools \n",
      "that increases an organization’s ability to deliver applications and services \n",
      "at high velocity”\n",
      "- What is DevOps? [AWS] -\n",
      "\n",
      "Reference [3]: - Postmortems/ Root Cause Analysis\n",
      "- ObservabilityPlatform Engineering\n",
      "Before jumping to definition, let’s understand the problem…\n",
      "“The composition and integration of a set of processes, tools and automation \n",
      "(components) to build a coherent platform with the goal of empowering developers to \n",
      "be able to easily build, maintain and deploy their business logic” Carrier as a\n",
      "DevOps \n",
      "Engineer\n",
      "CI/ CD Management & Automation\n",
      "Writing Specifications and \n",
      "Documentation\n",
      "Infrastructure Management\n",
      "\n",
      "Reference [4]: Operators\n",
      "Focused on StabilityAct 01 - Operations teams \n",
      "maintaining large fragile \n",
      "applications\n",
      "Doesn't have any visibility on the \n",
      "application, whether or not its \n",
      "working as expected\n",
      "Act 03 - The Developers\n",
      "Developers taking shortcuts and \n",
      "putting more and more fragile \n",
      "code on top of existing ones \n",
      "Act 02 - The product \n",
      "managers\n",
      "Larger, unrealistic commitments \n",
      "made to the outside world (client/ \n",
      "investors) without understanding \n",
      "the complexities behind \n",
      "development and operations\n",
      "\n",
      "Reference [5]: new change being deployed. \n",
      "• Microservices - The microservices architecture is a design approach to build a single \n",
      "application as a set of small services with each focusing on SRP. Each service can be \n",
      "created, deployed and run independently.• Infrastructure as Code - A practice in which infrastructure is provisioned and \n",
      "managed using code and software development techniques, such as version control \n",
      "and continuous integration.\n",
      "⚬ Configuration Management\n",
      "⚬ Policy as Code\n",
      "\n"
     ]
    }
   ],
   "source": [
    "from llama_index.llms.ollama import Ollama\n",
    "\n",
    "final_prompt = system_prompt.format(context=context) + user_prompt.format(question=question)\n",
    "\n",
    "# Step 4: Generate response using Ollama\n",
    "llm = Ollama(model=\"gemma3:1b\", temperature=0.1)\n",
    "response = llm.complete(final_prompt)\n",
    "\n",
    "# Step 5: Print answer and references\n",
    "print(f\"ANSWER:\\n{response.text}\\n\")\n",
    "print(f\"REFERENCES:\\n\")\n",
    "for index, ref in enumerate(references):\n",
    "    print(f\"Reference [{index + 1}]: {ref}\\n\")"
   ]
  },
  {
   "cell_type": "markdown",
   "metadata": {},
   "source": [
    "Answer general LLM knowledge responses"
   ]
  },
  {
   "cell_type": "code",
   "execution_count": 48,
   "metadata": {},
   "outputs": [
    {
     "name": "stdout",
     "output_type": "stream",
     "text": [
      "Object-oriented programming (OOP) is a programming paradigm that structures software design around data – called objects – and the concepts that relate to those objects. It’s based on the idea that real-world objects have properties (data) and behaviors (actions) that are encapsulated within them.  Key concepts include:\n",
      "\n",
      "*   **Encapsulation:** Bundling data and methods that operate on that data within a single unit (an object).\n",
      "*   **Inheritance:** Creating new objects based on existing objects, inheriting their properties and methods.\n",
      "*   **Polymorphism:** The ability of objects to take on different forms.\n",
      "\n",
      "Essentially, OOP is about modeling real-world entities as code, making it easier to manage and reuse code."
     ]
    }
   ],
   "source": [
    "import requests\n",
    "import json\n",
    "\n",
    "# 1. Format system and user messages\n",
    "system_message = system_prompt.format(context=context)\n",
    "user_message = user_prompt.format(question=question)\n",
    "\n",
    "# 2. API URL\n",
    "api_url = \"http://localhost:11434/api/chat\"\n",
    "\n",
    "# 3. Payload\n",
    "payload = {\n",
    "    \"model\": \"gemma3:1b\",\n",
    "    \"messages\": [\n",
    "        {\"role\": \"system\", \"content\": system_message},\n",
    "        {\"role\": \"user\", \"content\": user_message}\n",
    "    ],\n",
    "    \"stream\": True,   # <-- Tell Ollama to stream\n",
    "    #\"temperature\": 0.1  # Lower temperature for more factual responses\n",
    "}\n",
    "\n",
    "# 4. Send request with streaming\n",
    "response = requests.post(api_url, json=payload, stream=True)\n",
    "\n",
    "# 5. Read the response stream\n",
    "if response.status_code == 200:\n",
    "    for line in response.iter_lines():\n",
    "        if line:\n",
    "            data = line.decode('utf-8')\n",
    "            chunk = json.loads(data)\n",
    "            if 'message' in chunk and 'content' in chunk['message']:\n",
    "                print(chunk['message']['content'], end='', flush=True)\n",
    "else:\n",
    "    print(f\"Error: {response.status_code} - {response.text}\")\n"
   ]
  },
  {
   "cell_type": "markdown",
   "metadata": {},
   "source": [
    "8. Response with References"
   ]
  },
  {
   "cell_type": "markdown",
   "metadata": {},
   "source": [
    "RAG (Retrieval-Augmented Generation) principles: discourage hallucinations, only answer from the given documents"
   ]
  },
  {
   "cell_type": "markdown",
   "metadata": {},
   "source": [
    "Method 2: Using direct API requests"
   ]
  },
  {
   "cell_type": "code",
   "execution_count": 64,
   "metadata": {},
   "outputs": [
    {
     "name": "stdout",
     "output_type": "stream",
     "text": [
      "\n",
      "\n",
      "ANSWER:\n",
      "\n",
      "I don't know.\n",
      "\n",
      "REFERENCES:\n",
      "\n",
      "Reference [1]: at high velocity”\n",
      "- What is DevOps? [AWS] -\n",
      "“A compound of development (Dev) and operations (Ops), DevOps is the \n",
      "union of people, process, and technology to continually provide value to \n",
      "customers.” \n",
      "- What is DevOps? [Azure] -\n",
      "DevOps allows evolving and improving products at a faster pace than businesses \n",
      "using traditional software development and infrastructure management processes. \n",
      "This speed allows businesses to serve their customers better and compete effectively.Reduce Organizational\n",
      "\n",
      "Reference [2]: investors) without understanding \n",
      "the complexities behind \n",
      "development and operations\n",
      "Act 04 - Dev and Ops at war\n",
      "\"It worked on my machine\" \n",
      "phenomenon \n",
      "\"Destructive downward spiral in IT\" - Gene Kim\n",
      "How can we \n",
      "overcome \n",
      "these issues?“DevOps is the combination of cultural philosophies, practices, and tools \n",
      "that increases an organization’s ability to deliver applications and services \n",
      "at high velocity”\n",
      "- What is DevOps? [AWS] -\n",
      "\n",
      "Reference [3]: - Postmortems/ Root Cause Analysis\n",
      "- ObservabilityPlatform Engineering\n",
      "Before jumping to definition, let’s understand the problem…\n",
      "“The composition and integration of a set of processes, tools and automation \n",
      "(components) to build a coherent platform with the goal of empowering developers to \n",
      "be able to easily build, maintain and deploy their business logic” Carrier as a\n",
      "DevOps \n",
      "Engineer\n",
      "CI/ CD Management & Automation\n",
      "Writing Specifications and \n",
      "Documentation\n",
      "Infrastructure Management\n",
      "\n",
      "Reference [4]: Operators\n",
      "Focused on StabilityAct 01 - Operations teams \n",
      "maintaining large fragile \n",
      "applications\n",
      "Doesn't have any visibility on the \n",
      "application, whether or not its \n",
      "working as expected\n",
      "Act 03 - The Developers\n",
      "Developers taking shortcuts and \n",
      "putting more and more fragile \n",
      "code on top of existing ones \n",
      "Act 02 - The product \n",
      "managers\n",
      "Larger, unrealistic commitments \n",
      "made to the outside world (client/ \n",
      "investors) without understanding \n",
      "the complexities behind \n",
      "development and operations\n",
      "\n",
      "Reference [5]: new change being deployed. \n",
      "• Microservices - The microservices architecture is a design approach to build a single \n",
      "application as a set of small services with each focusing on SRP. Each service can be \n",
      "created, deployed and run independently.• Infrastructure as Code - A practice in which infrastructure is provisioned and \n",
      "managed using code and software development techniques, such as version control \n",
      "and continuous integration.\n",
      "⚬ Configuration Management\n",
      "⚬ Policy as Code\n",
      "\n"
     ]
    }
   ],
   "source": [
    "import requests\n",
    "import json\n",
    "\n",
    "# 1. Format prompt\n",
    "final_prompt = system_prompt.format(context=context) + user_prompt.format(question=question)\n",
    "\n",
    "# 2. API URL for completion mode\n",
    "api_url = \"http://localhost:11434/api/generate\"\n",
    "\n",
    "# 3. Payload\n",
    "payload = {\n",
    "    \"model\": \"gemma3:1b\",\n",
    "    \"prompt\": final_prompt,\n",
    "    \"stream\": True,\n",
    "    \"temperature\": 0.1\n",
    "}\n",
    "\n",
    "# 4. Send request\n",
    "response = requests.post(api_url, json=payload, stream=True)\n",
    "\n",
    "# 5. Read streamed chunks and build the answer\n",
    "print(\"\\n\\nANSWER:\\n\")\n",
    "full_answer = \"\"\n",
    "\n",
    "if response.status_code == 200:\n",
    "    for line in response.iter_lines():\n",
    "        if line:\n",
    "            data = line.decode('utf-8')\n",
    "            chunk = json.loads(data)\n",
    "            if 'response' in chunk:\n",
    "                token = chunk['response']\n",
    "                full_answer += token\n",
    "                print(token, end='', flush=True)\n",
    "else:\n",
    "    print(f\"Error: {response.status_code} - {response.text}\")\n",
    "\n",
    "# 6. After streaming is done, print references\n",
    "print(\"\\n\\nREFERENCES:\\n\")\n",
    "for index, ref in enumerate(references):\n",
    "    cleaned_ref = ref.strip()\n",
    "    if cleaned_ref:\n",
    "        print(f\"Reference [{index + 1}]: {cleaned_ref}\\n\")\n"
   ]
  }
 ],
 "metadata": {
  "kernelspec": {
   "display_name": ".venv",
   "language": "python",
   "name": "python3"
  },
  "language_info": {
   "codemirror_mode": {
    "name": "ipython",
    "version": 3
   },
   "file_extension": ".py",
   "mimetype": "text/x-python",
   "name": "python",
   "nbconvert_exporter": "python",
   "pygments_lexer": "ipython3",
   "version": "3.10.0"
  }
 },
 "nbformat": 4,
 "nbformat_minor": 2
}
